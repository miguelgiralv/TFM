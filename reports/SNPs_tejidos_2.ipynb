{
 "cells": [
  {
   "cell_type": "code",
   "execution_count": 1,
   "metadata": {},
   "outputs": [
    {
     "name": "stdout",
     "output_type": "stream",
     "text": [
      "Este es el numero de variantes por tejido en elastic net:\n",
      "Este es el numero de variantes por tejido en mashr:\n"
     ]
    },
    {
     "data": {
      "text/html": [
       "\n",
       "<div style=\"display: flex; justify-content: space-around;\">\n",
       "    <div>\n",
       "        <h3>Este es el numero de variantes por tejido en elastic net:</h3>\n",
       "        <IPython.core.display.HTML object>\n",
       "    </div>\n",
       "    <div>\n",
       "        <h3>Este es el numero de variantes por tejido en mashr:</h3>\n",
       "        <IPython.core.display.HTML object>\n",
       "    </div>\n",
       "</div>\n"
      ],
      "text/plain": [
       "<IPython.core.display.HTML object>"
      ]
     },
     "metadata": {},
     "output_type": "display_data"
    }
   ],
   "source": [
    "import pandas as pd\n",
    "from IPython.display import HTML\n",
    "import matplotlib.pyplot as plt\n",
    "\n",
    "path=\"C:/Users/Miguel/Documents/UNIVERSIDAD/6_MASTER_BIOINFORMATICA/TFM/Repositorio/TFM\"\n",
    "\n",
    "# cargamos todos los datos del número de casos que hemos ido descartando con el análisis de calidad realizado \n",
    "resumen_qc=pd.read_csv(f\"{path}/data/predictXcan/elastic_net_models/SNPs_tejidos.csv\")\n",
    "sorted_resumen=resumen_qc.sort_values(by='SNPs', ascending=False)\n",
    "print(\"Este es el numero de variantes por tejido en elastic net:\")\n",
    "# y vemos la tabla\n",
    "table_elastic=sorted_resumen.to_html(index=False)\n",
    "\n",
    "resumen_qc_mashr=pd.read_csv(f\"{path}/data/predictXcan/mashr_models/SNPs_tejidos_mashr.csv\")\n",
    "sorted_resumen_mashr=resumen_qc_mashr.sort_values(by='SNPs', ascending=False)\n",
    "print(\"Este es el numero de variantes por tejido en mashr:\")\n",
    "# y vemos la tabla\n",
    "tabla_mashr=sorted_resumen_mashr.to_html(index=False)\n",
    "\n",
    "\n",
    "combined_html = f\"\"\"\n",
    "<div style=\"display: flex; justify-content: space-around;\">\n",
    "    <div>\n",
    "        <h3>Este es el numero de variantes por tejido en elastic net:</h3>\n",
    "        {table_elastic}\n",
    "    </div>\n",
    "    <div>\n",
    "        <h3>Este es el numero de variantes por tejido en mashr:</h3>\n",
    "        {tabla_mashr}\n",
    "    </div>\n",
    "</div>\n",
    "\"\"\"\n",
    "\n",
    "display(HTML(combined_html))\n"
   ]
  }
 ],
 "metadata": {
  "kernelspec": {
   "display_name": ".venv",
   "language": "python",
   "name": "python3"
  },
  "language_info": {
   "codemirror_mode": {
    "name": "ipython",
    "version": 3
   },
   "file_extension": ".py",
   "mimetype": "text/x-python",
   "name": "python",
   "nbconvert_exporter": "python",
   "pygments_lexer": "ipython3",
   "version": "3.12.0"
  }
 },
 "nbformat": 4,
 "nbformat_minor": 2
}
