{
 "cells": [
  {
   "cell_type": "code",
   "execution_count": 27,
   "metadata": {},
   "outputs": [
    {
     "name": "stdout",
     "output_type": "stream",
     "text": [
      "Antes del análisis de calidad tenemos la siguiente distribución de casos\n"
     ]
    },
    {
     "data": {
      "text/html": [
       "<table border=\"1\" class=\"dataframe\">\n",
       "  <thead>\n",
       "    <tr style=\"text-align: right;\">\n",
       "      <th>Total</th>\n",
       "      <th>Control</th>\n",
       "      <th>Casos</th>\n",
       "      <th>Desconocido</th>\n",
       "    </tr>\n",
       "  </thead>\n",
       "  <tbody>\n",
       "    <tr>\n",
       "      <td>1215</td>\n",
       "      <td>560</td>\n",
       "      <td>615</td>\n",
       "      <td>40</td>\n",
       "    </tr>\n",
       "  </tbody>\n",
       "</table>"
      ],
      "text/plain": [
       "<IPython.core.display.HTML object>"
      ]
     },
     "execution_count": 27,
     "metadata": {},
     "output_type": "execute_result"
    }
   ],
   "source": [
    "import pandas as pd\n",
    "from IPython.display import HTML\n",
    "\n",
    "path=\"C:/Users/Miguel/Documents/UNIVERSIDAD/6 MASTER BIOINFORMATICA/TFM/Repositorio/TFM\"\n",
    "\n",
    "# Primero cargamos todos los datos:\n",
    "resumen_casos=pd.read_csv(f\"{path}/results/metadata_gsm/tabla_resumen_casos.csv\")\n",
    "resumen_sexos=pd.read_csv(f\"{path}/results/metadata_gsm/tabla_sexos.csv\")\n",
    "resumen_casos_qc=pd.read_csv(f\"{path}/results/metadata_gsm/tabla_resumen_casos_qc.csv\")\n",
    "resumen_sexos_qc=pd.read_csv(f\"{path}/results/metadata_gsm/tabla_sexos_qc.csv\")\n",
    "\n",
    "# y ahora los representamos\n",
    "print(\"Antes del análisis de calidad tenemos la siguiente distribución de casos\")\n",
    "# y vemos la tabla\n",
    "HTML(resumen_casos.to_html(index=False))\n",
    "\n"
   ]
  },
  {
   "cell_type": "code",
   "execution_count": 28,
   "metadata": {},
   "outputs": [
    {
     "name": "stdout",
     "output_type": "stream",
     "text": [
      "Antes del análisis de calidad tenemos la siguiente distribución de sexos\n"
     ]
    },
    {
     "data": {
      "text/html": [
       "<table border=\"1\" class=\"dataframe\">\n",
       "  <thead>\n",
       "    <tr style=\"text-align: right;\">\n",
       "      <th>Total</th>\n",
       "      <th>Hombre</th>\n",
       "      <th>Mujeres</th>\n",
       "      <th>Desconocido</th>\n",
       "    </tr>\n",
       "  </thead>\n",
       "  <tbody>\n",
       "    <tr>\n",
       "      <td>1215</td>\n",
       "      <td>392</td>\n",
       "      <td>823</td>\n",
       "      <td>40</td>\n",
       "    </tr>\n",
       "  </tbody>\n",
       "</table>"
      ],
      "text/plain": [
       "<IPython.core.display.HTML object>"
      ]
     },
     "execution_count": 28,
     "metadata": {},
     "output_type": "execute_result"
    }
   ],
   "source": [
    "# Cargamos la tabla de sexo \n",
    "print(\"Antes del análisis de calidad tenemos la siguiente distribución de sexos\")\n",
    "HTML(resumen_sexos.to_html(index=False))"
   ]
  },
  {
   "cell_type": "code",
   "execution_count": 29,
   "metadata": {},
   "outputs": [
    {
     "name": "stdout",
     "output_type": "stream",
     "text": [
      "Tras del análisis de calidad tenemos la siguiente distribución de casos\n"
     ]
    },
    {
     "data": {
      "text/html": [
       "<table border=\"1\" class=\"dataframe\">\n",
       "  <thead>\n",
       "    <tr style=\"text-align: right;\">\n",
       "      <th>Total</th>\n",
       "      <th>Control</th>\n",
       "      <th>Casos</th>\n",
       "      <th>Desconocido</th>\n",
       "    </tr>\n",
       "  </thead>\n",
       "  <tbody>\n",
       "    <tr>\n",
       "      <td>878</td>\n",
       "      <td>421</td>\n",
       "      <td>457</td>\n",
       "      <td>0</td>\n",
       "    </tr>\n",
       "  </tbody>\n",
       "</table>"
      ],
      "text/plain": [
       "<IPython.core.display.HTML object>"
      ]
     },
     "execution_count": 29,
     "metadata": {},
     "output_type": "execute_result"
    }
   ],
   "source": [
    "#ahora tras el análisis de calidad \n",
    "print(\"Tras del análisis de calidad tenemos la siguiente distribución de casos\")\n",
    "HTML(resumen_casos_qc.to_html(index=False))"
   ]
  },
  {
   "cell_type": "code",
   "execution_count": 30,
   "metadata": {},
   "outputs": [
    {
     "name": "stdout",
     "output_type": "stream",
     "text": [
      "Tras del análisis de calidad tenemos la siguiente distribución de sexos\n"
     ]
    },
    {
     "data": {
      "text/html": [
       "<table border=\"1\" class=\"dataframe\">\n",
       "  <thead>\n",
       "    <tr style=\"text-align: right;\">\n",
       "      <th>Total</th>\n",
       "      <th>Hombres</th>\n",
       "      <th>Mujeres</th>\n",
       "    </tr>\n",
       "  </thead>\n",
       "  <tbody>\n",
       "    <tr>\n",
       "      <td>1215</td>\n",
       "      <td>264</td>\n",
       "      <td>614</td>\n",
       "    </tr>\n",
       "  </tbody>\n",
       "</table>"
      ],
      "text/plain": [
       "<IPython.core.display.HTML object>"
      ]
     },
     "execution_count": 30,
     "metadata": {},
     "output_type": "execute_result"
    }
   ],
   "source": [
    "print(\"Tras del análisis de calidad tenemos la siguiente distribución de sexos\")\n",
    "# y la vemos\n",
    "HTML(resumen_sexos_qc.to_html(index=False))"
   ]
  }
 ],
 "metadata": {
  "kernelspec": {
   "display_name": "base",
   "language": "python",
   "name": "python3"
  },
  "language_info": {
   "codemirror_mode": {
    "name": "ipython",
    "version": 3
   },
   "file_extension": ".py",
   "mimetype": "text/x-python",
   "name": "python",
   "nbconvert_exporter": "python",
   "pygments_lexer": "ipython3",
   "version": "3.12.0"
  }
 },
 "nbformat": 4,
 "nbformat_minor": 2
}
