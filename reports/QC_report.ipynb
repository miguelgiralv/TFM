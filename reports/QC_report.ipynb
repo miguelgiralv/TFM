{
 "cells": [
  {
   "cell_type": "code",
   "execution_count": 2,
   "metadata": {},
   "outputs": [
    {
     "name": "stdout",
     "output_type": "stream",
     "text": [
      " Antes de descartar los individuos con muestras de baja calidad según los metadatos, teníamos 1215 individuos. \n",
      " Tras el análisis de calidad inicial, nos quedamos con 878 individuos. \n",
      " Hemos descartado 337 individuos en el análisis de calidad de los metadatos. \n",
      " \n",
      " Tras el análisis de call-rate, nos quedamos con 878 individuos. \n",
      " Hemos descartado 0 individuos. \n",
      " \n",
      " En total se han descartado 337 individuos\n"
     ]
    }
   ],
   "source": [
    "import pandas as pd\n",
    "import subprocess\n",
    "\n",
    "# Primero hacemos un recuento de individuos a lo largo de todo el análisis:\n",
    "# Eliminaremos primero los individuos con qc=failed en sus metadatos\n",
    "merged_metadata = pd.read_csv(\"C:/Users/Miguel/Documents/UNIVERSIDAD/6 MASTER BIOINFORMATICA/TFM/Repositorio/TFM/results/metadata_gsm/merged_metadata.txt\", sep=\"\\t\")\n",
    "qc_failed=merged_metadata[merged_metadata[\"QC\"]==\"Failed\"]\n",
    "#creamos un df con la lista de ids de muestras a eliminar y su family ID, que es siempre el mismo ()\n",
    "qc_failed_ids = qc_failed[[\"Individual ID\"]].copy() \n",
    "qc_failed_ids['Family_id'] = \"GSE33528\"\n",
    "# cambiamos el orden para que family_id sea la primera columna\n",
    "qc_failed_ids = qc_failed_ids[['Family_id', 'Individual ID']]\n",
    "# lo almacenamos en un txt\n",
    "qc_failed_ids.to_csv(\"C:/Users/Miguel/Documents/UNIVERSIDAD/6 MASTER BIOINFORMATICA/TFM/Repositorio/TFM/results/metadata_gsm/qc_failed_ids.txt\", sep=\"\\t\", index=False, header=False, lineterminator=\"\\n\")\n",
    "# ahora ejecutamos plink para eliminar las muestras que fallaron el test de calidad y que hemos almacenado en qc_failed_ids.txt\n",
    "# el comando es:\n",
    "plink_command = [\"C:/Users/Miguel/Documents/UNIVERSIDAD/6 MASTER BIOINFORMATICA/TFM/Repositorio/TFM/software/plink.exe\",\n",
    "# Usamos el archivo de plink con los sexos corregidos (lo se hizo en el fichero Metadata_table_generate)\n",
    "\"--bfile\", \"C:/Users/Miguel/Documents/UNIVERSIDAD/6 MASTER BIOINFORMATICA/TFM/Repositorio/TFM/results/plink_data/binary/processed/GSE33528_sex\", \n",
    "\"--remove\", \"C:/Users/Miguel/Documents/UNIVERSIDAD/6 MASTER BIOINFORMATICA/TFM/Repositorio/TFM/results/metadata_gsm/qc_failed_ids.txt\",\"--allow-extra-chr\", \n",
    "\"--make-bed\", \"--out\", \"C:/Users/Miguel/Documents/UNIVERSIDAD/6 MASTER BIOINFORMATICA/TFM/Repositorio/TFM/results/plink_data/binary/processed/GSE33528_sex_qc\"]\n",
    "# Lo ejecutamos para obtener los nuevos archivos binarios excluyendo a las muestras que no pasaron la calidad\n",
    "subprocess.run(plink_command)\n",
    "# antes del qc:\n",
    "with open(\"C:/Users/Miguel/Documents/UNIVERSIDAD/6 MASTER BIOINFORMATICA/TFM/Repositorio/TFM/results/plink_data/binary/processed/GSE33528_sex.fam\", \"r\") as file:\n",
    "    row_count_qc_antes = len(file.readlines())    \n",
    "#y despues del qc:\n",
    "with open(\"C:/Users/Miguel/Documents/UNIVERSIDAD/6 MASTER BIOINFORMATICA/TFM/Repositorio/TFM/results/plink_data/binary/processed/GSE33528_sex_qc.fam\", \"r\") as file:\n",
    "    row_count_qc_despues = len(file.readlines())   \n",
    "\n",
    "# Ahora seleccionamos ahora los individuos con buena calidad en base al call-rate de individuos (comando --mind)\n",
    "plink_command = [\"C:/Users/Miguel/Documents/UNIVERSIDAD/6 MASTER BIOINFORMATICA/TFM/Repositorio/TFM/software/plink.exe\",\n",
    "\"--bfile\", \"C:/Users/Miguel/Documents/UNIVERSIDAD/6 MASTER BIOINFORMATICA/TFM/Repositorio/TFM/results/plink_data/binary/processed/GSE33528_qc\", \n",
    "\"--mind\", \"0.05\",\"--allow-extra-chr\",\"--out\",\n",
    "\"C:/Users/Miguel/Documents/UNIVERSIDAD/6 MASTER BIOINFORMATICA/TFM/Repositorio/TFM/results/plink_data/binary/processed/GSE33528_qc_in\",\n",
    "\"--make-bed\"] \n",
    "# Lo ejecutamos para obtener los nuevos archivos binarios excluyendo a las muestras que no pasaron la calidad\n",
    "subprocess.run(plink_command)\n",
    "with open(\"C:/Users/Miguel/Documents/UNIVERSIDAD/6 MASTER BIOINFORMATICA/TFM/Repositorio/TFM/results/plink_data/binary/processed/GSE33528_qc_in.fam\", \"r\") as file:\n",
    "    row_count_qc_in_despues = len(file.readlines())   \n",
    "\n",
    "# Y resumimos toda la información:\n",
    "print(\" Antes de descartar los individuos con muestras de baja calidad según los metadatos, teníamos\", row_count_qc_antes, \"individuos.\",\"\\n\",\n",
    "\"Tras el análisis de calidad inicial, nos quedamos con\", row_count_qc_despues, \"individuos.\",\"\\n\",\n",
    "\"Hemos descartado\", row_count_qc_antes-row_count_qc_despues, \"individuos en el análisis de calidad de los metadatos.\",\"\\n\",\"\\n\",\n",
    "\"Tras el análisis de call-rate, nos quedamos con\", row_count_qc_in_despues, \"individuos.\",\"\\n\",\n",
    "\"Hemos descartado\", row_count_qc_despues-row_count_qc_in_despues, \"individuos.\",\"\\n\",\"\\n\",\n",
    "\"En total se han descartado\", row_count_qc_antes-row_count_qc_in_despues,\"individuos\")"
   ]
  },
  {
   "cell_type": "code",
   "execution_count": 4,
   "metadata": {},
   "outputs": [
    {
     "name": "stdout",
     "output_type": "stream",
     "text": [
      "Antes de mapear el genoma de referencia teníamos 662841 variantes. \n",
      " Tras el mapeo a hg38, nos quedamos con 661775 variantes. \n",
      " Hemos descartado 1066 variantes. \n",
      " \n",
      " Tras el análisis de calidad en base al call-rate, nos quedamos con 656603 variantes. \n",
      " Hemos eliminado 5172 variantes. \n",
      " \n",
      " En total se han descartado 6238 variantes\n"
     ]
    }
   ],
   "source": [
    "# Ahora haremos una análisis del número de variantes\n",
    "# Primero veremos el número de SNPs que teníamos antes de mapear de hg18 a hg38\n",
    "with open(\"C:/Users/Miguel/Documents/UNIVERSIDAD/6 MASTER BIOINFORMATICA/TFM/Repositorio/TFM/results/plink_data/classic/GSE33528.map\", \"r\") as file:\n",
    "    row_count_var_map_antes = len(file.readlines())   \n",
    "\n",
    "# y ahora vemos el numero de SNPs tras el mapeo:\n",
    "with open(\"C:/Users/Miguel/Documents/UNIVERSIDAD/6 MASTER BIOINFORMATICA/TFM/Repositorio/TFM/results/plink_data/classic/processed/output_map.map\", \"r\") as file:\n",
    "    row_count_var_map_despues = len(file.readlines())   \n",
    "\n",
    "# Seleccionamos ahora solo las variantes con buena calidad en base a su call-rate (call rate de 0.95) (comando --geno)\n",
    "plink_command = [\"C:/Users/Miguel/Documents/UNIVERSIDAD/6 MASTER BIOINFORMATICA/TFM/Repositorio/TFM/software/plink.exe\",\n",
    "\"--bfile\", \"C:/Users/Miguel/Documents/UNIVERSIDAD/6 MASTER BIOINFORMATICA/TFM/Repositorio/TFM/results/plink_data/binary/processed/GSE33528_qc_in\", \n",
    "\"--geno\", \"0.05\",\"--allow-extra-chr\",\n",
    "\"--out\", \"C:/Users/Miguel/Documents/UNIVERSIDAD/6 MASTER BIOINFORMATICA/TFM/Repositorio/TFM/results/plink_data/binary/processed/GSE33528_final\",\n",
    "\"--make-bed\"] \n",
    "# Lo ejecutamos para obtener los nuevos archivos binarios excluyendo a las muestras que no pasaron la calidad\n",
    "subprocess.run(plink_command)\n",
    "#Vemos el número de variantes que nos quedan despues de filtrar el call-rate:\n",
    "with open(\"C:/Users/Miguel/Documents/UNIVERSIDAD/6 MASTER BIOINFORMATICA/TFM/Repositorio/TFM/results/plink_data/binary/processed/GSE33528_final.bim\", \"r\") as file:\n",
    "    row_count_var_cr_despues = len(file.readlines())   \n",
    "\n",
    "# y resumimos toda la información:\n",
    "print(\"Antes de mapear el genoma de referencia teníamos\", row_count_var_map_antes, \"variantes.\",\"\\n\",\n",
    "\"Tras el mapeo a hg38, nos quedamos con\", row_count_var_map_despues, \"variantes.\",\"\\n\",\n",
    "\"Hemos descartado\", row_count_var_map_antes-row_count_var_map_despues, \"variantes.\",\"\\n\",\"\\n\",\n",
    "\"Tras el análisis de calidad en base al call-rate, nos quedamos con\", row_count_var_cr_despues, \"variantes.\",\"\\n\",\n",
    "\"Hemos eliminado\", row_count_var_map_despues-row_count_var_cr_despues, \"variantes.\",\"\\n\",\"\\n\",\n",
    "\"En total se han descartado\", row_count_var_map_antes-row_count_var_cr_despues,\"variantes\")"
   ]
  }
 ],
 "metadata": {
  "kernelspec": {
   "display_name": "base",
   "language": "python",
   "name": "python3"
  },
  "language_info": {
   "codemirror_mode": {
    "name": "ipython",
    "version": 3
   },
   "file_extension": ".py",
   "mimetype": "text/x-python",
   "name": "python",
   "nbconvert_exporter": "python",
   "pygments_lexer": "ipython3",
   "version": "3.11.5"
  }
 },
 "nbformat": 4,
 "nbformat_minor": 2
}
