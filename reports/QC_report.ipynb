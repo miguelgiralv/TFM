{
 "cells": [
  {
   "cell_type": "code",
   "execution_count": 2,
   "metadata": {},
   "outputs": [
    {
     "name": "stdout",
     "output_type": "stream",
     "text": [
      "Esta es la distribución de casos que no se han descartado tras el análisis de calidad\n"
     ]
    },
    {
     "data": {
      "text/html": [
       "<table border=\"1\" class=\"dataframe\">\n",
       "  <thead>\n",
       "    <tr style=\"text-align: right;\">\n",
       "      <th>Inicial</th>\n",
       "      <th>QC metadatos</th>\n",
       "      <th>QC call rate</th>\n",
       "    </tr>\n",
       "  </thead>\n",
       "  <tbody>\n",
       "    <tr>\n",
       "      <td>1215</td>\n",
       "      <td>878</td>\n",
       "      <td>878</td>\n",
       "    </tr>\n",
       "  </tbody>\n",
       "</table>"
      ],
      "text/plain": [
       "<IPython.core.display.HTML object>"
      ]
     },
     "execution_count": 2,
     "metadata": {},
     "output_type": "execute_result"
    }
   ],
   "source": [
    "import pandas as pd\n",
    "from IPython.display import HTML\n",
    "import matplotlib.pyplot as plt\n",
    "\n",
    "path=\"C:/Users/Miguel/Documents/UNIVERSIDAD/6_MASTER_BIOINFORMATICA/TFM/Repositorio/TFM\"\n",
    "\n",
    "# cargamos todos los datos del número de casos que hemos ido descartando con el análisis de calidad realizado \n",
    "resumen_qc=pd.read_csv(f\"{path}/results/metadata_gsm/qc_resumen.csv\")\n",
    "print(\"Esta es la distribución de casos que no se han descartado tras el análisis de calidad\")\n",
    "# y vemos la tabla\n",
    "HTML(resumen_qc.to_html(index=False))\n",
    "\n"
   ]
  },
  {
   "cell_type": "code",
   "execution_count": 4,
   "metadata": {},
   "outputs": [
    {
     "name": "stdout",
     "output_type": "stream",
     "text": [
      "Hemos descartado en cada paso los siguientes individuos:\n"
     ]
    },
    {
     "data": {
      "text/html": [
       "<table border=\"1\" class=\"dataframe\">\n",
       "  <thead>\n",
       "    <tr style=\"text-align: right;\">\n",
       "      <th>QC metadatos</th>\n",
       "      <th>QC call rate</th>\n",
       "    </tr>\n",
       "  </thead>\n",
       "  <tbody>\n",
       "    <tr>\n",
       "      <td>337</td>\n",
       "      <td>0</td>\n",
       "    </tr>\n",
       "  </tbody>\n",
       "</table>"
      ],
      "text/plain": [
       "<IPython.core.display.HTML object>"
      ]
     },
     "execution_count": 4,
     "metadata": {},
     "output_type": "execute_result"
    }
   ],
   "source": [
    "print(\"Hemos descartado en cada paso los siguientes individuos:\")\n",
    "mapeo=resumen_qc[\"Inicial\"]-resumen_qc[\"QC metadatos\"]\n",
    "call_rate=resumen_qc[\"QC metadatos\"]-resumen_qc[\"QC call rate\"]\n",
    "\n",
    "tabla_diferencias = pd.DataFrame({\n",
    "    \"QC metadatos\": mapeo,\n",
    "    \"QC call rate\": call_rate\n",
    "})\n",
    "\n",
    "HTML(tabla_diferencias.to_html(index=False))"
   ]
  },
  {
   "cell_type": "code",
   "execution_count": 5,
   "metadata": {},
   "outputs": [
    {
     "data": {
      "image/png": "[encoded data removed]",
      "text/plain": [
       "<Figure size 800x600 with 1 Axes>"
      ]
     },
     "metadata": {},
     "output_type": "display_data"
    }
   ],
   "source": [
    "# y lo representamos:\n",
    "qc_steps = resumen_qc.columns.tolist()  \n",
    "individuos = resumen_qc.iloc[0].tolist()  \n",
    "plt.figure(figsize=(8, 6))\n",
    "plt.barh(qc_steps, individuos, color='skyblue')\n",
    "plt.xlabel('Individuos')\n",
    "plt.ylabel('')\n",
    "plt.title('Cantidad de individuos que no se descartaron en el análisis de calidad')\n",
    "plt.gca().invert_yaxis()  \n",
    "plt.show()"
   ]
  },
  {
   "cell_type": "code",
   "execution_count": 15,
   "metadata": {},
   "outputs": [
    {
     "name": "stdout",
     "output_type": "stream",
     "text": [
      "Este es el resumen de las variantes que tenemos en cada paso\n"
     ]
    },
    {
     "data": {
      "text/html": [
       "<table border=\"1\" class=\"dataframe\">\n",
       "  <thead>\n",
       "    <tr style=\"text-align: right;\">\n",
       "      <th>Inicial</th>\n",
       "      <th>Mapeo</th>\n",
       "      <th>Call-rate</th>\n",
       "      <th>Imputado_0,3_GT</th>\n",
       "      <th>Imputado_0,3</th>\n",
       "      <th>Imputado_0,1_GT</th>\n",
       "      <th>Imputado_0,1</th>\n",
       "    </tr>\n",
       "  </thead>\n",
       "  <tbody>\n",
       "    <tr>\n",
       "      <td>662841</td>\n",
       "      <td>661916</td>\n",
       "      <td>656744</td>\n",
       "      <td>641576</td>\n",
       "      <td>30304988</td>\n",
       "      <td>641577</td>\n",
       "      <td>34324390</td>\n",
       "    </tr>\n",
       "  </tbody>\n",
       "</table>"
      ],
      "text/plain": [
       "<IPython.core.display.HTML object>"
      ]
     },
     "execution_count": 15,
     "metadata": {},
     "output_type": "execute_result"
    }
   ],
   "source": [
    "# Ahora haremos una análisis del número de variantes que hemos perdido:\n",
    "variantes_resumen=pd.read_csv(f\"{path}/results/metadata_gsm/variantes_resumen.csv\")\n",
    "print(\"Este es el resumen de las variantes que tenemos en cada paso\")\n",
    "HTML(variantes_resumen.to_html(index=False))"
   ]
  },
  {
   "cell_type": "code",
   "execution_count": 17,
   "metadata": {},
   "outputs": [
    {
     "name": "stdout",
     "output_type": "stream",
     "text": [
      "Hemos descartado en cada paso las siguientes variantes:\n"
     ]
    },
    {
     "data": {
      "text/html": [
       "<table border=\"1\" class=\"dataframe\">\n",
       "  <thead>\n",
       "    <tr style=\"text-align: right;\">\n",
       "      <th>Mapeo</th>\n",
       "      <th>Call-rate</th>\n",
       "      <th>Imputado_originales_0.3</th>\n",
       "      <th>Imputado_originales_0.1</th>\n",
       "    </tr>\n",
       "  </thead>\n",
       "  <tbody>\n",
       "    <tr>\n",
       "      <td>925</td>\n",
       "      <td>5172</td>\n",
       "      <td>15168</td>\n",
       "      <td>15167</td>\n",
       "    </tr>\n",
       "  </tbody>\n",
       "</table>"
      ],
      "text/plain": [
       "<IPython.core.display.HTML object>"
      ]
     },
     "execution_count": 17,
     "metadata": {},
     "output_type": "execute_result"
    }
   ],
   "source": [
    "# Representamos la diferencia:\n",
    "print(\"Hemos descartado en cada paso las siguientes variantes:\")\n",
    "mapeo=variantes_resumen[\"Inicial\"]-variantes_resumen[\"Mapeo\"]\n",
    "call_rate=variantes_resumen[\"Mapeo\"]-variantes_resumen[\"Call-rate\"]\n",
    "imputado_1=variantes_resumen[\"Call-rate\"]-variantes_resumen[\"Imputado_0,3_GT\"]\n",
    "imputado_2=variantes_resumen[\"Call-rate\"]-variantes_resumen[\"Imputado_0,1_GT\"]\n",
    "tabla_diferencias = pd.DataFrame({\n",
    "    \"Mapeo\": mapeo,\n",
    "    \"Call-rate\": call_rate,\n",
    "    \"Imputado_originales_0.3\": imputado_1,\n",
    "    \"Imputado_originales_0.1\": imputado_2\n",
    "\n",
    "})\n",
    "\n",
    "HTML(tabla_diferencias.to_html(index=False))"
   ]
  },
  {
   "cell_type": "code",
   "execution_count": 7,
   "metadata": {},
   "outputs": [
    {
     "data": {
      "image/png": "[encoded data removed]",
      "text/plain": [
       "<Figure size 800x600 with 1 Axes>"
      ]
     },
     "metadata": {},
     "output_type": "display_data"
    }
   ],
   "source": [
    "# y lo representamos:\n",
    "categorias = variantes_resumen.columns.tolist()  \n",
    "variantes = variantes_resumen.iloc[0].tolist()  \n",
    "plt.figure(figsize=(8, 6))\n",
    "plt.barh(categorias, variantes, color='skyblue')\n",
    "plt.xlabel('Número de variantes (escala logarítmica)')\n",
    "plt.ylabel('')\n",
    "plt.title('Cantidad de variantes en cada paso')\n",
    "plt.gca().invert_yaxis()  \n",
    "plt.xscale('log')  \n",
    "plt.show()"
   ]
  }
 ],
 "metadata": {
  "kernelspec": {
   "display_name": "base",
   "language": "python",
   "name": "python3"
  },
  "language_info": {
   "codemirror_mode": {
    "name": "ipython",
    "version": 3
   },
   "file_extension": ".py",
   "mimetype": "text/x-python",
   "name": "python",
   "nbconvert_exporter": "python",
   "pygments_lexer": "ipython3",
   "version": "3.12.0"
  }
 },
 "nbformat": 4,
 "nbformat_minor": 2
}
